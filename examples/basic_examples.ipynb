{
 "cells": [
  {
   "cell_type": "markdown",
   "metadata": {},
   "source": [
    "## IN PROGRESS"
   ]
  },
  {
   "cell_type": "code",
   "execution_count": 3,
   "metadata": {},
   "outputs": [],
   "source": [
    "# Imports\n",
    "from openfermion import QubitOperator, get_sparse_operator\n",
    "import numpy as np\n",
    "from scipy.sparse.linalg import eigsh\n",
    "\n"
   ]
  },
  {
   "cell_type": "code",
   "execution_count": 4,
   "metadata": {},
   "outputs": [],
   "source": [
    "# Example Hamiltonian\n",
    "strham  = \"1 [X0 X1] + 2 [X1 X2] + 3 [X2 X3] + 4 [X3 X0]\"\n",
    "strham += \"5 [Y0 X1] + 6 [Y1 X2] + 7 [Y2 X3] + 8 [Y3 X0]\"\n",
    "strham += \"9 [Z0 Z1 Z2 Z3]\"\n",
    "H = QubitOperator(strham)\n"
   ]
  },
  {
   "cell_type": "code",
   "execution_count": null,
   "metadata": {},
   "outputs": [],
   "source": []
  }
 ],
 "metadata": {
  "kernelspec": {
   "display_name": "qmain",
   "language": "python",
   "name": "python3"
  },
  "language_info": {
   "codemirror_mode": {
    "name": "ipython",
    "version": 3
   },
   "file_extension": ".py",
   "mimetype": "text/x-python",
   "name": "python",
   "nbconvert_exporter": "python",
   "pygments_lexer": "ipython3",
   "version": "3.11.5"
  }
 },
 "nbformat": 4,
 "nbformat_minor": 2
}
